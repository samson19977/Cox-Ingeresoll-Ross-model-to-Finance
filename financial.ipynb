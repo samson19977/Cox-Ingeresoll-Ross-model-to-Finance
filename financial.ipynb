import numpy as np

# Define parameters
a = 0.1
b = 0.05
sigma = 0.3
r0 = 0.03
T = 1.0
N = 252
dt = T / N

# Generate random numbers for simulation
np.random.seed(123)
Z = np.random.normal(size=N)

# Create empty arrays to store simulated interest rates and discounted cash flows
r_sim = np.zeros(N)
df_sim = np.zeros(N)

# Set initial interest rate value
r_sim[0] = r0

# Simulate interest rate process using Monte Carlo simulation
for i in range(1, N):
    r_sim[i] = r_sim[i-1] + a*(b-r_sim[i-1])*dt + sigma*np.sqrt(r_sim[i-1]*dt)*Z[i]

# Calculate discounted cash flows for each time step
for i in range(N):
    t = i*dt
    df_sim[i] = np.exp(-r_sim[i]*t)

# Define cash flows
C = 0.05  # coupon rate
F = 1000  # face value
cash_flows = C * F * np.ones(N//2)
cash_flows[-1] += F

# Create an array of discounted cash flows that matches the length of cash_flows
df_cf = np.zeros_like(cash_flows)
df_cf[:len(df_sim)//2] = df_sim[:len(df_sim)//2]
df_cf[len(df_sim)//2:] = df_sim[-1]

# Calculate bond price as the average of the discounted cash flows over all paths
bond_price = np.mean(cash_flows*df_cf)

print(f"The estimated bond price is: {bond_price:.2f}")
#The estimated bond price is: 57.41
